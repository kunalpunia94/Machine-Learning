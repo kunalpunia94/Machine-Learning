{
 "cells": [
  {
   "cell_type": "code",
   "execution_count": 96,
   "id": "80946179-b5ba-4fbd-b284-b14e572c7047",
   "metadata": {},
   "outputs": [],
   "source": [
    "import pickle\n",
    "import numpy as np\n",
    "import pandas as pd"
   ]
  },
  {
   "cell_type": "code",
   "execution_count": 98,
   "id": "b3ed0298-fa65-473e-b8ed-97594f8943f6",
   "metadata": {},
   "outputs": [],
   "source": [
    "ohe_sex = pickle.load(open('D:/Machine Learning 100 days/Day_29_ML_Pipelines/ohe_sex.pkl','rb'))\n",
    "ohe_embarked = pickle.load(open('D:/Machine Learning 100 days/Day_29_ML_Pipelines/ohe_embarked.pkl','rb'))\n",
    "clf = pickle.load(open('D:/Machine Learning 100 days/Day_29_ML_Pipelines/clf.pkl','rb'))\n",
    "\n",
    "#we are getting these model which saved  in last file"
   ]
  },
  {
   "cell_type": "code",
   "execution_count": 100,
   "id": "1d1417ba-bcc1-4092-95dd-4858e60d186c",
   "metadata": {},
   "outputs": [],
   "source": [
    "# Assume user input\n",
    "# Pclass/gender/age/SibSp/Parch/Fare/Embarked\n",
    "\n",
    "# Column names (based on training data)\n",
    "columns = ['Pclass', 'Sex', 'age', 'SibSp', 'Parch', 'Fare', 'Embarked']\n",
    "\n",
    "# User input as a NumPy array\n",
    "test_input = np.array([2, 'male', 31.0, 0, 0, 10.5, 'S'], dtype=object).reshape(1, 7)\n",
    "\n",
    "# Convert to a DataFrame\n",
    "test_input_df = pd.DataFrame(test_input, columns=columns)\n"
   ]
  },
  {
   "cell_type": "code",
   "execution_count": 102,
   "id": "1f7641ca-1fb3-4dc2-ba86-b4c729847fdb",
   "metadata": {},
   "outputs": [
    {
     "data": {
      "text/html": [
       "<div>\n",
       "<style scoped>\n",
       "    .dataframe tbody tr th:only-of-type {\n",
       "        vertical-align: middle;\n",
       "    }\n",
       "\n",
       "    .dataframe tbody tr th {\n",
       "        vertical-align: top;\n",
       "    }\n",
       "\n",
       "    .dataframe thead th {\n",
       "        text-align: right;\n",
       "    }\n",
       "</style>\n",
       "<table border=\"1\" class=\"dataframe\">\n",
       "  <thead>\n",
       "    <tr style=\"text-align: right;\">\n",
       "      <th></th>\n",
       "      <th>Pclass</th>\n",
       "      <th>Sex</th>\n",
       "      <th>age</th>\n",
       "      <th>SibSp</th>\n",
       "      <th>Parch</th>\n",
       "      <th>Fare</th>\n",
       "      <th>Embarked</th>\n",
       "    </tr>\n",
       "  </thead>\n",
       "  <tbody>\n",
       "    <tr>\n",
       "      <th>0</th>\n",
       "      <td>2</td>\n",
       "      <td>male</td>\n",
       "      <td>31.0</td>\n",
       "      <td>0</td>\n",
       "      <td>0</td>\n",
       "      <td>10.5</td>\n",
       "      <td>S</td>\n",
       "    </tr>\n",
       "  </tbody>\n",
       "</table>\n",
       "</div>"
      ],
      "text/plain": [
       "  Pclass   Sex   age SibSp Parch  Fare Embarked\n",
       "0      2  male  31.0     0     0  10.5        S"
      ]
     },
     "execution_count": 102,
     "metadata": {},
     "output_type": "execute_result"
    }
   ],
   "source": [
    "test_input_df"
   ]
  },
  {
   "cell_type": "code",
   "execution_count": 109,
   "id": "8cbe5421-3262-459b-a7e0-d1b5db2d2792",
   "metadata": {},
   "outputs": [
    {
     "name": "stdout",
     "output_type": "stream",
     "text": [
      "[[0. 1.]]\n"
     ]
    }
   ],
   "source": [
    "# Access the 'gender' column by its name\n",
    "test_input_sex = ohe_sex.transform(test_input_df[['Sex']])\n",
    "\n",
    "# Print the transformed gender data\n",
    "print(test_input_sex)\n"
   ]
  },
  {
   "cell_type": "code",
   "execution_count": 111,
   "id": "d61e1e83-6232-45d1-888f-70bacb3f358d",
   "metadata": {},
   "outputs": [],
   "source": [
    "test_input_embarked = ohe_embarked.transform(test_input[:,-1].reshape(1,1))"
   ]
  },
  {
   "cell_type": "code",
   "execution_count": 113,
   "id": "696915f1-46e1-443c-ba07-c2ba6d11d295",
   "metadata": {},
   "outputs": [
    {
     "data": {
      "text/plain": [
       "array([[0., 0., 1.]])"
      ]
     },
     "execution_count": 113,
     "metadata": {},
     "output_type": "execute_result"
    }
   ],
   "source": [
    "test_input_embarked"
   ]
  },
  {
   "cell_type": "code",
   "execution_count": 115,
   "id": "c061af5b-e413-4e5f-b4bc-7f016fdf71dd",
   "metadata": {},
   "outputs": [],
   "source": [
    "test_input_age = test_input[:,2].reshape(1,1)"
   ]
  },
  {
   "cell_type": "code",
   "execution_count": 117,
   "id": "135b549a-5127-4899-8529-ec61819b395f",
   "metadata": {},
   "outputs": [
    {
     "data": {
      "text/plain": [
       "array([[31.0]], dtype=object)"
      ]
     },
     "execution_count": 117,
     "metadata": {},
     "output_type": "execute_result"
    }
   ],
   "source": [
    "test_input_age"
   ]
  },
  {
   "cell_type": "code",
   "execution_count": 119,
   "id": "e3c16b0c-fe9f-45c6-a4e8-c3a8285b1ff7",
   "metadata": {},
   "outputs": [],
   "source": [
    "test_input_transformed = np.concatenate((test_input[:,[0,3,4,5]],test_input_age,test_input_sex,test_input_embarked),axis=1)\n"
   ]
  },
  {
   "cell_type": "code",
   "execution_count": 121,
   "id": "90009fc3-0b27-4a68-8fde-ee8ec4f11ca1",
   "metadata": {},
   "outputs": [
    {
     "data": {
      "text/plain": [
       "array([[2, 0, 0, 10.5, 31.0, 0.0, 1.0, 0.0, 0.0, 1.0]], dtype=object)"
      ]
     },
     "execution_count": 121,
     "metadata": {},
     "output_type": "execute_result"
    }
   ],
   "source": [
    "test_input_transformed"
   ]
  },
  {
   "cell_type": "code",
   "execution_count": 123,
   "id": "ea56fb6d-6858-49e7-b4b2-5b3f8c9e1d70",
   "metadata": {},
   "outputs": [
    {
     "data": {
      "text/plain": [
       "(1, 10)"
      ]
     },
     "execution_count": 123,
     "metadata": {},
     "output_type": "execute_result"
    }
   ],
   "source": [
    "test_input_transformed.shape"
   ]
  },
  {
   "cell_type": "code",
   "execution_count": 125,
   "id": "f3f8d88b-38d3-4ea3-9607-72c8fe2f1d00",
   "metadata": {},
   "outputs": [
    {
     "data": {
      "text/plain": [
       "array([0])"
      ]
     },
     "execution_count": 125,
     "metadata": {},
     "output_type": "execute_result"
    }
   ],
   "source": [
    "clf.predict(test_input_transformed)\n"
   ]
  },
  {
   "cell_type": "code",
   "execution_count": null,
   "id": "8329643a-b097-4ac9-9553-f4cca509db61",
   "metadata": {},
   "outputs": [],
   "source": []
  }
 ],
 "metadata": {
  "kernelspec": {
   "display_name": "Python [conda env:base] *",
   "language": "python",
   "name": "conda-base-py"
  },
  "language_info": {
   "codemirror_mode": {
    "name": "ipython",
    "version": 3
   },
   "file_extension": ".py",
   "mimetype": "text/x-python",
   "name": "python",
   "nbconvert_exporter": "python",
   "pygments_lexer": "ipython3",
   "version": "3.12.7"
  }
 },
 "nbformat": 4,
 "nbformat_minor": 5
}
